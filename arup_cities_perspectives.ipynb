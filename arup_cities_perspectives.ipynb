{
 "cells": [
  {
   "cell_type": "code",
   "execution_count": 78,
   "id": "7250b89b",
   "metadata": {},
   "outputs": [],
   "source": [
    "import pandas as pd\n",
    "import numpy as np\n",
    "import requests\n",
    "from bs4 import BeautifulSoup\n",
    "from tqdm.notebook import tqdm\n",
    "from selenium import webdriver\n",
    "from selenium.common.exceptions import NoSuchElementException\n",
    "from selenium.webdriver.common.by import By\n",
    "import time\n",
    "import re"
   ]
  },
  {
   "cell_type": "code",
   "execution_count": 14,
   "id": "8c435426",
   "metadata": {},
   "outputs": [],
   "source": [
    "link = \"https://www.arup.com/perspectives/cities\"\n",
    "driver = webdriver.Firefox()\n",
    "driver.get(link)\n",
    "time.sleep(5)\n",
    "screen_height = driver.execute_script(\"return window.screen.height;\")   # get the screen height of the web\n",
    "i = 1\n",
    "while True:\n",
    "    driver.execute_script(f\"window.scrollTo(0, {screen_height}*{i});\")\n",
    "    try:\n",
    "        button = driver.find_element(By.CSS_SELECTOR, \".cta.cta--black.cta--plus.cta--plain.load-more\")\n",
    "        button.click()  \n",
    "        time.sleep(1)\n",
    "    except NoSuchElementException:\n",
    "        break\n",
    "\n",
    "soup = BeautifulSoup(driver.page_source, 'html.parser')\n",
    "driver.quit()"
   ]
  },
  {
   "cell_type": "code",
   "execution_count": 31,
   "id": "9ba28ec7",
   "metadata": {},
   "outputs": [],
   "source": [
    "headers = [header.text for header in soup.select('h3.preview-copy__title')]\n",
    "urls = ['https://www.arup.com' + link['href'] for link in soup.select('a.preview-copy__toplink')]"
   ]
  },
  {
   "cell_type": "code",
   "execution_count": 32,
   "id": "246e915f",
   "metadata": {},
   "outputs": [],
   "source": [
    "links = pd.DataFrame(columns=['title', 'url'])\n",
    "links.title = headers\n",
    "links.url = urls"
   ]
  },
  {
   "cell_type": "code",
   "execution_count": 34,
   "id": "119042f7",
   "metadata": {},
   "outputs": [
    {
     "data": {
      "text/html": [
       "<div>\n",
       "<style scoped>\n",
       "    .dataframe tbody tr th:only-of-type {\n",
       "        vertical-align: middle;\n",
       "    }\n",
       "\n",
       "    .dataframe tbody tr th {\n",
       "        vertical-align: top;\n",
       "    }\n",
       "\n",
       "    .dataframe thead th {\n",
       "        text-align: right;\n",
       "    }\n",
       "</style>\n",
       "<table border=\"1\" class=\"dataframe\">\n",
       "  <thead>\n",
       "    <tr style=\"text-align: right;\">\n",
       "      <th></th>\n",
       "      <th>title</th>\n",
       "      <th>url</th>\n",
       "    </tr>\n",
       "  </thead>\n",
       "  <tbody>\n",
       "    <tr>\n",
       "      <th>0</th>\n",
       "      <td>People, nature and technology: an integrated v...</td>\n",
       "      <td>https://www.arup.com/perspectives/people-natur...</td>\n",
       "    </tr>\n",
       "    <tr>\n",
       "      <th>1</th>\n",
       "      <td>Planting an idea: Tirana's radical, orbital gr...</td>\n",
       "      <td>https://www.arup.com/perspectives/planting-an-...</td>\n",
       "    </tr>\n",
       "    <tr>\n",
       "      <th>2</th>\n",
       "      <td>Relighting and rewilding our environment</td>\n",
       "      <td>https://www.arup.com/perspectives/relighting-a...</td>\n",
       "    </tr>\n",
       "    <tr>\n",
       "      <th>3</th>\n",
       "      <td>What if the client was everyone? How social va...</td>\n",
       "      <td>https://www.arup.com/perspectives/what-if-the-...</td>\n",
       "    </tr>\n",
       "    <tr>\n",
       "      <th>4</th>\n",
       "      <td>People, nature and technology: an integrated v...</td>\n",
       "      <td>https://www.arup.com/perspectives/people-natur...</td>\n",
       "    </tr>\n",
       "    <tr>\n",
       "      <th>...</th>\n",
       "      <td>...</td>\n",
       "      <td>...</td>\n",
       "    </tr>\n",
       "    <tr>\n",
       "      <th>269</th>\n",
       "      <td>BiodiverCities by 2030: transforming cities re...</td>\n",
       "      <td>https://www.arup.com/perspectives/publications...</td>\n",
       "    </tr>\n",
       "    <tr>\n",
       "      <th>270</th>\n",
       "      <td>Deadline 2020: How cities will get the job done</td>\n",
       "      <td>https://www.arup.com/perspectives/publications...</td>\n",
       "    </tr>\n",
       "    <tr>\n",
       "      <th>271</th>\n",
       "      <td>Pushing the boundaries of BIM</td>\n",
       "      <td>https://www.arup.com/perspectives/pushing-the-...</td>\n",
       "    </tr>\n",
       "    <tr>\n",
       "      <th>272</th>\n",
       "      <td>How charrettes help city planning</td>\n",
       "      <td>https://www.arup.com/perspectives/how-charrett...</td>\n",
       "    </tr>\n",
       "    <tr>\n",
       "      <th>273</th>\n",
       "      <td>Driving the new economy: how smart cities are ...</td>\n",
       "      <td>https://www.arup.com/perspectives/driving-the-...</td>\n",
       "    </tr>\n",
       "  </tbody>\n",
       "</table>\n",
       "<p>274 rows × 2 columns</p>\n",
       "</div>"
      ],
      "text/plain": [
       "                                                 title  \\\n",
       "0    People, nature and technology: an integrated v...   \n",
       "1    Planting an idea: Tirana's radical, orbital gr...   \n",
       "2             Relighting and rewilding our environment   \n",
       "3    What if the client was everyone? How social va...   \n",
       "4    People, nature and technology: an integrated v...   \n",
       "..                                                 ...   \n",
       "269  BiodiverCities by 2030: transforming cities re...   \n",
       "270    Deadline 2020: How cities will get the job done   \n",
       "271                      Pushing the boundaries of BIM   \n",
       "272                 How charrettes help city planning    \n",
       "273  Driving the new economy: how smart cities are ...   \n",
       "\n",
       "                                                   url  \n",
       "0    https://www.arup.com/perspectives/people-natur...  \n",
       "1    https://www.arup.com/perspectives/planting-an-...  \n",
       "2    https://www.arup.com/perspectives/relighting-a...  \n",
       "3    https://www.arup.com/perspectives/what-if-the-...  \n",
       "4    https://www.arup.com/perspectives/people-natur...  \n",
       "..                                                 ...  \n",
       "269  https://www.arup.com/perspectives/publications...  \n",
       "270  https://www.arup.com/perspectives/publications...  \n",
       "271  https://www.arup.com/perspectives/pushing-the-...  \n",
       "272  https://www.arup.com/perspectives/how-charrett...  \n",
       "273  https://www.arup.com/perspectives/driving-the-...  \n",
       "\n",
       "[274 rows x 2 columns]"
      ]
     },
     "execution_count": 34,
     "metadata": {},
     "output_type": "execute_result"
    }
   ],
   "source": [
    "links"
   ]
  },
  {
   "cell_type": "code",
   "execution_count": 80,
   "id": "6988a5d2",
   "metadata": {},
   "outputs": [],
   "source": [
    "corpus = pd.DataFrame(columns=['title', 'url', 'date', 'text'])"
   ]
  },
  {
   "cell_type": "code",
   "execution_count": 81,
   "id": "e59666fc",
   "metadata": {},
   "outputs": [
    {
     "data": {
      "text/plain": [
       "title    People, nature and technology: an integrated v...\n",
       "url      https://www.arup.com/perspectives/people-natur...\n",
       "Name: 0, dtype: object"
      ]
     },
     "execution_count": 81,
     "metadata": {},
     "output_type": "execute_result"
    }
   ],
   "source": [
    "links.loc[0]"
   ]
  },
  {
   "cell_type": "code",
   "execution_count": 85,
   "id": "3dfacca6",
   "metadata": {},
   "outputs": [
    {
     "data": {
      "application/vnd.jupyter.widget-view+json": {
       "model_id": "36a3d93072ec4f2d9fe1ec0c2238d96a",
       "version_major": 2,
       "version_minor": 0
      },
      "text/plain": [
       "  0%|          | 0/274 [00:00<?, ?it/s]"
      ]
     },
     "metadata": {},
     "output_type": "display_data"
    },
    {
     "name": "stdout",
     "output_type": "stream",
     "text": [
      "Error at index 96: 'NoneType' object has no attribute 'text'\n"
     ]
    }
   ],
   "source": [
    "for i, link in tqdm(links.iterrows(), total=len(links)):\n",
    "    try:\n",
    "        url = link.url\n",
    "        title = link.title\n",
    "        r = requests.get(url)\n",
    "        soup = BeautifulSoup(r.text, 'html.parser')\n",
    "        article = soup.article.text\n",
    "        text = re.sub(r'[\\r\\n\\xa0 ]+', ' ', article).strip()\n",
    "        corpus.loc[i] = [title, url, np.nan, text]\n",
    "    except Exception as e:\n",
    "        corpus.loc[i] = np.nan\n",
    "        print(f'Error at index {i}: {e}')"
   ]
  },
  {
   "cell_type": "code",
   "execution_count": 90,
   "id": "096ed35c",
   "metadata": {},
   "outputs": [
    {
     "data": {
      "text/plain": [
       "\"A net zero built environment, given the sector’s energy intensive construction processes and reliance on emissions-producing materials like concrete and steel and glass, is rightly recognised as an incredibly tough challenge. Across the world practitioners are evaluating how this global goal might be locally realised. In high rise, high density, sub-tropical cities like Hong Kong it’s already clear that we will need to use a highly integrated set of design interventions and new practices. Arup has used a recent design competition to see what a net zero approach might involve. For solutions to scale and have a tangible effect on cities as a whole, we need to think broadly about how architecture, landscape and public realm design elements can contribute to net zero in an integrated fashion. Our award winning 2021 submission for Hong Kong’s Advancing Net Zero Ideas competition, is a scheme called ‘Taikoo Green Ribbon’ which embodies green design, human experience, ecology and sustainability within a coherent and bold net zero architectural design approach. To view this video, you must enable cookies. This project’s ambitious sustainability credentials and use of emerging technology also poses tangible challenges to developers’ traditional assumptions – particularly about cost, risk and the form of buildings the world will need. Regulation - the innovative design tool? In geographically constrained cities like Hong Kong, space is costly, and building is always about density and vertical potential. To date, developers have understandably found it hard to achieve commercially viable, environmentally focused designs, within these constraints. To make the leap to the environmental outcomes and performance we want to see, we will need to see government regulation evolve to make less emissions intensive building typologies commercially viable. Regulators and policy makers can make this change more appealing by communicating that net zero buildings’ inherent focus on nature and greenery mean they’re a new way to improve the urban experience for everyone. And suppliers across the building sector need to demand and develop innovative, cost-effective, carbon-neutral construction processes and products. This is an agenda Arup and its partners are pushing. As an industry we must be honest, net zero means shifting expectations to new, unfamiliar norms for building design and operation. There are new considerations for users too. On Taikoo Green Ribbon we concluded early on that natural ventilation must replace powered air conditioning and temperature control as far as possible, with implications for the physical design and human experience. Eight principles guided our thinking on the design of Taikoo Green Ribbon – by tightly integrating them Taikoo could become net zero within 8 years of operation. These key principles are like the DNA of a net zero building scheme, and like DNA they rely on unity – we won’t achieve net zero if we only concentrate on the easy or inexpensive parts. As a goal, net zero requires that we bring together low-energy technology, waste reduction, material reuse and recycling, to design a scheme that is socially inclusive, flexible and adaptable for tenants. Taikoo Green Ribbon is ultimately informed by social, ecological and biodiversity objectives drawn from the UN Sustainable Development Goals, from its surrounding landscape to its façade. Net zero is a chance to do everything better. Innovations at every level With the design of Taikoo Green Ribbon complete, we drew a number of conclusions. First, ideas like ‘biophilic design’, where nature plays a meaningful role in the design and experience of the built environments, is likely to become a hallmark of truly net zero projects. The ethos offers so many benefits, in terms of visitor/user experience and human health and wellbeing, that the approach symbolises much of the net zero agenda’s true meaning. Our second lesson is the building should be a generator not just a consumer of energy. The opportunity to generate the building’s own energy from its façade in algae-powered cells or from rooftop solar/wind turbines, are core design attributes, not ‘nice-to-have’ options. Taikoo Green Ribbon’s use of new curved solar panels, means it can generate more power, for longer each day – leading to energy self-sufficiency within the building. Third, the focus on the surrounding landscape is about paying attention to the human experience of architecture, and a recognition that it can encourage more sustainable, healthy and socially inclusive outcomes among the public. At Taikoo Green Ribbon the building’s green design extends out into landscaped public gardens beyond – giving the building a more inclusive role in the neighbourhood immediately around it. These are enlightened opportunities we should almost always be making the most of. “ For solutions to scale and have a tangible effect on cities as a whole, we need to think broadly about how architecture, landscape and public realm design elements can contribute to net zero in an integrated fashion. ” Dennis Ho Director and East Asia Architecture and Urban Design Leader Responding to 'the everything problem' This is because climate change itself is a set of integrated and always developing problems, leading to related risks and threats. As a force reshaping our thinking, it requires that we respond in kind, finding ways to maximise the reductions in emissions, encouraging new and more sustainable public behaviours and preferences, making more thoughtful bets about the form of built and natural environment we want to live and work in. On Taikoo Green Ribbon, the new technologies themselves, the design and materials choices made are all valid, relevant responses to the ways climate change challenges traditional assumptions. But perhaps the greatest lesson of our work designing the scheme, is the commitment we must make to integrate all these factors – the social, natural, economic, material, commercial and environmental – within a proposed design. Sustainable and social – new roles for development Net zero challenges every aspect of human civilisation, requiring new behaviours and changed preferences that in turn require new forms of physical infrastructure (or radical retrofitting). Exemplar projects can help us to make these changes manifest and real for the world to learn from. But there’s a bigger goal too. For Taikoo Green Ribbon, our workplace design put the users’ wellbeing at its heart, addressing the work environment and comfort. We can already see that the net zero ethos could lead to improved social interaction, better wellbeing and health outcomes, enhanced biodiversity and ecology and spur many other beneficial technical innovations. The recent pandemic has shown us that, faced with a common threat, people are actually far more amenable to change than many thought. There’s a new open-mindedness among clients about what a building is for, how flexible it needs to be and a growing awareness that it must be experience-driven if it’s to retain value long-term. It’s a good time to be bold and champion the radical ideas our planet needs. Speak to Dennis Ho, our East Asia Architecture and Urban Design Leader, if you are interested in learning more about this approach. Find out more Expertise Architecture For over fifty years Arup has operated an architecture practice, believing that architecture and engineering are best achieved in close collaboration, two parts of a seamless creative process. News Arup commits to whole lifecycle carbon assessments for all buildings work and withdrawal from fossil fuels from next year Kate Adlington Global Press Office 8 November 2021\""
      ]
     },
     "execution_count": 90,
     "metadata": {},
     "output_type": "execute_result"
    }
   ],
   "source": [
    "corpus.loc[4, 'text']"
   ]
  },
  {
   "cell_type": "code",
   "execution_count": 91,
   "id": "e1cb0a27",
   "metadata": {},
   "outputs": [],
   "source": [
    "corpus.to_csv('./arup_cities_perspectives_corpus.csv')"
   ]
  },
  {
   "cell_type": "code",
   "execution_count": 92,
   "id": "61151864",
   "metadata": {},
   "outputs": [
    {
     "data": {
      "text/html": [
       "<div>\n",
       "<style scoped>\n",
       "    .dataframe tbody tr th:only-of-type {\n",
       "        vertical-align: middle;\n",
       "    }\n",
       "\n",
       "    .dataframe tbody tr th {\n",
       "        vertical-align: top;\n",
       "    }\n",
       "\n",
       "    .dataframe thead th {\n",
       "        text-align: right;\n",
       "    }\n",
       "</style>\n",
       "<table border=\"1\" class=\"dataframe\">\n",
       "  <thead>\n",
       "    <tr style=\"text-align: right;\">\n",
       "      <th></th>\n",
       "      <th>title</th>\n",
       "      <th>url</th>\n",
       "      <th>date</th>\n",
       "      <th>text</th>\n",
       "    </tr>\n",
       "  </thead>\n",
       "  <tbody>\n",
       "    <tr>\n",
       "      <th>0</th>\n",
       "      <td>People, nature and technology: an integrated v...</td>\n",
       "      <td>https://www.arup.com/perspectives/people-natur...</td>\n",
       "      <td>NaN</td>\n",
       "      <td>A net zero built environment, given the sector...</td>\n",
       "    </tr>\n",
       "    <tr>\n",
       "      <th>1</th>\n",
       "      <td>Planting an idea: Tirana's radical, orbital gr...</td>\n",
       "      <td>https://www.arup.com/perspectives/planting-an-...</td>\n",
       "      <td>NaN</td>\n",
       "      <td>Becoming a more sustainable city means many di...</td>\n",
       "    </tr>\n",
       "    <tr>\n",
       "      <th>2</th>\n",
       "      <td>Relighting and rewilding our environment</td>\n",
       "      <td>https://www.arup.com/perspectives/relighting-a...</td>\n",
       "      <td>NaN</td>\n",
       "      <td>In the global sweep of urbanisation over the l...</td>\n",
       "    </tr>\n",
       "    <tr>\n",
       "      <th>3</th>\n",
       "      <td>What if the client was everyone? How social va...</td>\n",
       "      <td>https://www.arup.com/perspectives/what-if-the-...</td>\n",
       "      <td>NaN</td>\n",
       "      <td>As we walk around our cities, we often pass bu...</td>\n",
       "    </tr>\n",
       "    <tr>\n",
       "      <th>4</th>\n",
       "      <td>People, nature and technology: an integrated v...</td>\n",
       "      <td>https://www.arup.com/perspectives/people-natur...</td>\n",
       "      <td>NaN</td>\n",
       "      <td>A net zero built environment, given the sector...</td>\n",
       "    </tr>\n",
       "  </tbody>\n",
       "</table>\n",
       "</div>"
      ],
      "text/plain": [
       "                                               title  \\\n",
       "0  People, nature and technology: an integrated v...   \n",
       "1  Planting an idea: Tirana's radical, orbital gr...   \n",
       "2           Relighting and rewilding our environment   \n",
       "3  What if the client was everyone? How social va...   \n",
       "4  People, nature and technology: an integrated v...   \n",
       "\n",
       "                                                 url  date  \\\n",
       "0  https://www.arup.com/perspectives/people-natur...   NaN   \n",
       "1  https://www.arup.com/perspectives/planting-an-...   NaN   \n",
       "2  https://www.arup.com/perspectives/relighting-a...   NaN   \n",
       "3  https://www.arup.com/perspectives/what-if-the-...   NaN   \n",
       "4  https://www.arup.com/perspectives/people-natur...   NaN   \n",
       "\n",
       "                                                text  \n",
       "0  A net zero built environment, given the sector...  \n",
       "1  Becoming a more sustainable city means many di...  \n",
       "2  In the global sweep of urbanisation over the l...  \n",
       "3  As we walk around our cities, we often pass bu...  \n",
       "4  A net zero built environment, given the sector...  "
      ]
     },
     "execution_count": 92,
     "metadata": {},
     "output_type": "execute_result"
    }
   ],
   "source": [
    "corpus.head()"
   ]
  },
  {
   "cell_type": "code",
   "execution_count": null,
   "id": "b603aff1",
   "metadata": {},
   "outputs": [],
   "source": []
  }
 ],
 "metadata": {
  "kernelspec": {
   "display_name": "Python 3 (ipykernel)",
   "language": "python",
   "name": "python3"
  },
  "language_info": {
   "codemirror_mode": {
    "name": "ipython",
    "version": 3
   },
   "file_extension": ".py",
   "mimetype": "text/x-python",
   "name": "python",
   "nbconvert_exporter": "python",
   "pygments_lexer": "ipython3",
   "version": "3.9.7"
  },
  "toc": {
   "base_numbering": 1,
   "nav_menu": {},
   "number_sections": true,
   "sideBar": true,
   "skip_h1_title": false,
   "title_cell": "Table of Contents",
   "title_sidebar": "Contents",
   "toc_cell": false,
   "toc_position": {},
   "toc_section_display": true,
   "toc_window_display": false
  }
 },
 "nbformat": 4,
 "nbformat_minor": 5
}
