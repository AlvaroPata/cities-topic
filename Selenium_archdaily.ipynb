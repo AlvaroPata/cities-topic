{
 "cells": [
  {
   "cell_type": "code",
   "execution_count": 13,
   "id": "4ec2321c",
   "metadata": {},
   "outputs": [],
   "source": [
    "import time\n",
    "import requests\n",
    "from selenium import webdriver\n",
    "import pandas as pd\n",
    "from bs4 import BeautifulSoup\n",
    "from tqdm import tqdm\n",
    "import numpy as np\n",
    "from selenium.webdriver.common.by import By\n",
    "from selenium.common.exceptions import NoSuchElementException"
   ]
  },
  {
   "cell_type": "code",
   "execution_count": 26,
   "id": "7516efb1",
   "metadata": {},
   "outputs": [],
   "source": [
    "driver = webdriver.Firefox()\n",
    "driver.get(\"https://www.archdaily.com/architecture-news\")\n",
    "time.sleep(600)# Allow 2 seconds for the web page to open\n",
    "i = 0\n",
    "\n",
    "urls = pd.DataFrame(columns=['title', 'url'])\n",
    "\n",
    "while True:\n",
    "    soup = BeautifulSoup(driver.page_source, \"html.parser\")\n",
    "    links = soup.select('a.afd-title--black-link')\n",
    "    for link in links:\n",
    "        title = link.text\n",
    "        url = f\"https://www.archdaily.com{link['href']}\"\n",
    "        urls.loc[len(urls), ['title', 'url']] = [title, url]\n",
    "    try:\n",
    "        button = driver.find_element(By.CSS_SELECTOR, \"a.next\")\n",
    "        button.click()  \n",
    "        i += 1\n",
    "        time.sleep(1)\n",
    "    except NoSuchElementException:\n",
    "        break"
   ]
  },
  {
   "cell_type": "code",
   "execution_count": 53,
   "id": "e1e67f00",
   "metadata": {},
   "outputs": [
    {
     "name": "stdout",
     "output_type": "stream",
     "text": [
      "Message: Unable to locate element: a.next\n",
      "Stacktrace:\n",
      "WebDriverError@chrome://remote/content/shared/webdriver/Errors.jsm:183:5\n",
      "NoSuchElementError@chrome://remote/content/shared/webdriver/Errors.jsm:395:5\n",
      "element.find/</<@chrome://remote/content/marionette/element.js:300:16\n",
      "\n",
      "Last visited page: 442\n"
     ]
    }
   ],
   "source": [
    "# continue from last visited page\n",
    "i = i+1 # last visited page + next\n",
    "driver = webdriver.Firefox()\n",
    "driver.get(f\"https://www.archdaily.com/architecture-news/page/{i}\")\n",
    "time.sleep(60)# Allow 1 min for the web page to open and log in\n",
    "\n",
    "tmp = pd.DataFrame(columns=['title', 'url'])\n",
    "\n",
    "while True:\n",
    "    soup = BeautifulSoup(driver.page_source, \"html.parser\")\n",
    "    links = soup.select('a.afd-title--black-link')\n",
    "    for link in links:\n",
    "        title = link.text\n",
    "        url = f\"https://www.archdaily.com{link['href']}\"\n",
    "        tmp.loc[len(tmp), ['title', 'url']] = [title, url]\n",
    "    try:\n",
    "        button = driver.find_element(By.CSS_SELECTOR, \"a.next\")\n",
    "        button.click()  \n",
    "        i += 1\n",
    "        time.sleep(1)\n",
    "    except Exception as e:\n",
    "        print(e)\n",
    "        print(f'Last visited page: {i}')\n",
    "        break"
   ]
  },
  {
   "cell_type": "code",
   "execution_count": 54,
   "id": "f3b2fd4e",
   "metadata": {},
   "outputs": [
    {
     "data": {
      "text/html": [
       "<div>\n",
       "<style scoped>\n",
       "    .dataframe tbody tr th:only-of-type {\n",
       "        vertical-align: middle;\n",
       "    }\n",
       "\n",
       "    .dataframe tbody tr th {\n",
       "        vertical-align: top;\n",
       "    }\n",
       "\n",
       "    .dataframe thead th {\n",
       "        text-align: right;\n",
       "    }\n",
       "</style>\n",
       "<table border=\"1\" class=\"dataframe\">\n",
       "  <thead>\n",
       "    <tr style=\"text-align: right;\">\n",
       "      <th></th>\n",
       "      <th>title</th>\n",
       "      <th>url</th>\n",
       "    </tr>\n",
       "  </thead>\n",
       "  <tbody>\n",
       "    <tr>\n",
       "      <th>0</th>\n",
       "      <td>Serious Question: How Will Our Future Cities L...</td>\n",
       "      <td>https://www.archdaily.com/954887/serious-quest...</td>\n",
       "    </tr>\n",
       "    <tr>\n",
       "      <th>1</th>\n",
       "      <td>Knowledge Quest: Submit Your Proposal for a Gr...</td>\n",
       "      <td>https://www.archdaily.com/953392/knowledge-que...</td>\n",
       "    </tr>\n",
       "    <tr>\n",
       "      <th>2</th>\n",
       "      <td>10 Innovative Cabins That Experiment With Thei...</td>\n",
       "      <td>https://www.archdaily.com/955189/10-innovative...</td>\n",
       "    </tr>\n",
       "    <tr>\n",
       "      <th>3</th>\n",
       "      <td>Sou Fujimoto Reveals Design for Torch Tower in...</td>\n",
       "      <td>https://www.archdaily.com/954996/sou-fujimoto-...</td>\n",
       "    </tr>\n",
       "    <tr>\n",
       "      <th>4</th>\n",
       "      <td>Outer Space 2020 Winners Announced</td>\n",
       "      <td>https://www.archdaily.com/955260/outer-space-2...</td>\n",
       "    </tr>\n",
       "    <tr>\n",
       "      <th>...</th>\n",
       "      <td>...</td>\n",
       "      <td>...</td>\n",
       "    </tr>\n",
       "    <tr>\n",
       "      <th>8182</th>\n",
       "      <td>TARI-Architect's Entry Proposal for Lithuania'...</td>\n",
       "      <td>https://www.archdaily.com/796772/tari-architec...</td>\n",
       "    </tr>\n",
       "    <tr>\n",
       "      <th>8183</th>\n",
       "      <td>Google and La Biennale di Venezia Release Onli...</td>\n",
       "      <td>https://www.archdaily.com/797277/google-and-la...</td>\n",
       "    </tr>\n",
       "    <tr>\n",
       "      <th>8184</th>\n",
       "      <td>Hala Wardé and HW Architecture Win Competitio...</td>\n",
       "      <td>https://www.archdaily.com/797269/hala-warde-an...</td>\n",
       "    </tr>\n",
       "    <tr>\n",
       "      <th>8185</th>\n",
       "      <td>9 Times Architects Transformed Frank Lloyd Wri...</td>\n",
       "      <td>https://www.archdaily.com/797188/9-times-archi...</td>\n",
       "    </tr>\n",
       "    <tr>\n",
       "      <th>8186</th>\n",
       "      <td>Small Stories: 24 Architects, Artists and Desi...</td>\n",
       "      <td>https://www.archdaily.com/797112/small-stories...</td>\n",
       "    </tr>\n",
       "  </tbody>\n",
       "</table>\n",
       "<p>8187 rows × 2 columns</p>\n",
       "</div>"
      ],
      "text/plain": [
       "                                                  title  \\\n",
       "0     Serious Question: How Will Our Future Cities L...   \n",
       "1     Knowledge Quest: Submit Your Proposal for a Gr...   \n",
       "2     10 Innovative Cabins That Experiment With Thei...   \n",
       "3     Sou Fujimoto Reveals Design for Torch Tower in...   \n",
       "4                    Outer Space 2020 Winners Announced   \n",
       "...                                                 ...   \n",
       "8182  TARI-Architect's Entry Proposal for Lithuania'...   \n",
       "8183  Google and La Biennale di Venezia Release Onli...   \n",
       "8184  Hala Wardé and HW Architecture Win Competitio...   \n",
       "8185  9 Times Architects Transformed Frank Lloyd Wri...   \n",
       "8186  Small Stories: 24 Architects, Artists and Desi...   \n",
       "\n",
       "                                                    url  \n",
       "0     https://www.archdaily.com/954887/serious-quest...  \n",
       "1     https://www.archdaily.com/953392/knowledge-que...  \n",
       "2     https://www.archdaily.com/955189/10-innovative...  \n",
       "3     https://www.archdaily.com/954996/sou-fujimoto-...  \n",
       "4     https://www.archdaily.com/955260/outer-space-2...  \n",
       "...                                                 ...  \n",
       "8182  https://www.archdaily.com/796772/tari-architec...  \n",
       "8183  https://www.archdaily.com/797277/google-and-la...  \n",
       "8184  https://www.archdaily.com/797269/hala-warde-an...  \n",
       "8185  https://www.archdaily.com/797188/9-times-archi...  \n",
       "8186  https://www.archdaily.com/797112/small-stories...  \n",
       "\n",
       "[8187 rows x 2 columns]"
      ]
     },
     "execution_count": 54,
     "metadata": {},
     "output_type": "execute_result"
    }
   ],
   "source": [
    "tmp"
   ]
  },
  {
   "cell_type": "code",
   "execution_count": 55,
   "id": "e16917f3",
   "metadata": {},
   "outputs": [
    {
     "data": {
      "text/plain": [
       "442"
      ]
     },
     "execution_count": 55,
     "metadata": {},
     "output_type": "execute_result"
    }
   ],
   "source": [
    "i"
   ]
  },
  {
   "cell_type": "code",
   "execution_count": 56,
   "id": "fe175732",
   "metadata": {},
   "outputs": [],
   "source": [
    "urls = pd.concat([urls, tmp]).reset_index(drop=True)"
   ]
  },
  {
   "cell_type": "code",
   "execution_count": 57,
   "id": "3a185573",
   "metadata": {},
   "outputs": [],
   "source": [
    "urls.to_csv('archpy-links.csv')"
   ]
  },
  {
   "cell_type": "code",
   "execution_count": 43,
   "id": "3a3b8536",
   "metadata": {},
   "outputs": [
    {
     "data": {
      "text/plain": [
       "45"
      ]
     },
     "execution_count": 43,
     "metadata": {},
     "output_type": "execute_result"
    }
   ],
   "source": [
    "i"
   ]
  }
 ],
 "metadata": {
  "kernelspec": {
   "display_name": "Python 3 (ipykernel)",
   "language": "python",
   "name": "python3"
  },
  "language_info": {
   "codemirror_mode": {
    "name": "ipython",
    "version": 3
   },
   "file_extension": ".py",
   "mimetype": "text/x-python",
   "name": "python",
   "nbconvert_exporter": "python",
   "pygments_lexer": "ipython3",
   "version": "3.9.7"
  },
  "toc": {
   "base_numbering": 1,
   "nav_menu": {},
   "number_sections": true,
   "sideBar": true,
   "skip_h1_title": false,
   "title_cell": "Table of Contents",
   "title_sidebar": "Contents",
   "toc_cell": false,
   "toc_position": {},
   "toc_section_display": true,
   "toc_window_display": false
  }
 },
 "nbformat": 4,
 "nbformat_minor": 5
}
