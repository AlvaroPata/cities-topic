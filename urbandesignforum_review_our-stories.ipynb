{
 "cells": [
  {
   "cell_type": "code",
   "execution_count": 2,
   "id": "7250b89b",
   "metadata": {},
   "outputs": [],
   "source": [
    "import pandas as pd\n",
    "import numpy as np\n",
    "import requests\n",
    "from bs4 import BeautifulSoup\n",
    "from tqdm.notebook import tqdm\n",
    "from selenium import webdriver\n",
    "from selenium.common.exceptions import NoSuchElementException\n",
    "from selenium.webdriver.common.by import By\n",
    "import time\n",
    "import re"
   ]
  },
  {
   "cell_type": "code",
   "execution_count": 4,
   "id": "cbff4ace",
   "metadata": {},
   "outputs": [
    {
     "data": {
      "text/plain": [
       "['a', 'b', 'c', 'd', 'e']"
      ]
     },
     "execution_count": 4,
     "metadata": {},
     "output_type": "execute_result"
    }
   ],
   "source": [
    "l = ['a', 'b', 'c']\n",
    "l_ = ['d', 'e']\n",
    "l+l_"
   ]
  },
  {
   "cell_type": "code",
   "execution_count": 19,
   "id": "b823d379",
   "metadata": {},
   "outputs": [
    {
     "data": {
      "text/plain": [
       "'March 25, 2022'"
      ]
     },
     "execution_count": 19,
     "metadata": {},
     "output_type": "execute_result"
    }
   ],
   "source": [
    "test = 'Posted — March 25, 2022'\n",
    "pattern = re.compile(r'\\w+ — (\\w+ \\d+, \\d{4})')\n",
    "result = re.match(pattern, test)\n",
    "result[1]"
   ]
  },
  {
   "cell_type": "code",
   "execution_count": 24,
   "id": "8c435426",
   "metadata": {},
   "outputs": [],
   "source": [
    "link = \"https://urbandesignforum.org/review/our-stories/\"\n",
    "driver = webdriver.Firefox()\n",
    "driver.get(link)\n",
    "time.sleep(5)\n",
    "screen_height = driver.execute_script(\"return window.screen.height;\")   # get the screen height of the web\n",
    "i = 1\n",
    "corpus = pd.DataFrame(columns = ['title', 'url', 'date', 'text'])\n",
    "pattern = re.compile(r'\\w+ — (\\w+ \\d+, \\d{4})')\n",
    "result = re.match(pattern, test)\n",
    "links = []\n",
    "titles = []\n",
    "dates = []\n",
    "while True:\n",
    "    soup = BeautifulSoup(driver.page_source, 'html.parser')\n",
    "    headers = soup.select('div.title')\n",
    "    date_headers = soup.select('h6.publish-date')\n",
    "    links.extend([header.a['href'] for header in headers])\n",
    "    titles.extend([header.a.h4.text for header in headers])\n",
    "    dates.extend([re.match(pattern, header.text)[1] for header in date_headers])\n",
    "    driver.execute_script(f\"window.scrollTo(0, {screen_height}*{i});\")\n",
    "    try:\n",
    "        button = driver.find_element(By.CSS_SELECTOR, \"a.next.page-numbers\")\n",
    "        button.click()  \n",
    "        time.sleep(1)\n",
    "    except NoSuchElementException:\n",
    "        break\n",
    "\n",
    "# soup = BeautifulSoup(driver.page_source, 'html.parser')\n",
    "driver.quit()"
   ]
  },
  {
   "cell_type": "code",
   "execution_count": 33,
   "id": "e6ffb808",
   "metadata": {},
   "outputs": [],
   "source": [
    "corpus = pd.DataFrame()\n",
    "corpus['title'] = titles\n",
    "corpus['url'] = links\n",
    "corpus['date'] = dates"
   ]
  },
  {
   "cell_type": "code",
   "execution_count": 35,
   "id": "9fccc320",
   "metadata": {},
   "outputs": [],
   "source": [
    "r = requests.get(corpus.loc[0, 'url'])"
   ]
  },
  {
   "cell_type": "code",
   "execution_count": 37,
   "id": "021b7cbc",
   "metadata": {},
   "outputs": [],
   "source": [
    "soup = BeautifulSoup(r.text, 'html.parser')"
   ]
  },
  {
   "cell_type": "code",
   "execution_count": 46,
   "id": "2c0a8a98",
   "metadata": {},
   "outputs": [],
   "source": [
    "text = [p.text.strip() for p in soup.select('div.entry-content.mb-5')]"
   ]
  },
  {
   "cell_type": "code",
   "execution_count": 47,
   "id": "aa13087c",
   "metadata": {},
   "outputs": [
    {
     "data": {
      "text/plain": [
       "['For this month’s Fellow Spotlight, we spoke with Jhordan Channer and Dorraine Duncan, co-founders of Island City Lab.\\nIsland City Lab is a think-tank that confronts the defining issues affecting the built environment of island nations co-founded by Urban Design Forum Fellows Jhordan Channer and Dorraine Duncan. Aiming to develop a network of urbanists, Island City Lab sees the need for the creation and dissemination of best practices in the urban development of Caribbean towns and cities.\\nA major goal for the organization will be to convene stakeholders and break down silos across design, real estate, transit, housing, sustainability, and policy sectors to share new ideas around major urban issues and interrogate commonly held ones.\\nBelow, we talk with Jhordan and Dorraine about what’s to come from Island City Lab.\\n\\nAt Island City Lab, you’re convening stakeholders and sharing knowledge around critical issues affecting island cities. Why is there a need–specifically in the Caribbean–for a center that encourages a network-based approach to urban issues?\\xa0\\nDD: Right now–especially in the climate space–there is a lot of attention on the islands. There is this ideology that the islands are the “canary in the coalmine.” That as the populations on the frontlines we will be experiencing the impacts of climate change the fastest and the hardest. And that only from observing our experiences, people outside the region can then learn what to expect and hopefully act.\\xa0\\nThis type of attention means that most of the research and expertise still comes from outside the region and relies on external dollars. Yet, there are lots of talented people here who understand the way our cities operate and the particular vulnerabilities that we face. The real hope is that we’ll build this network of researchers and start collating this knowledge. We want to be the space where that research and experience is held, housed, and disseminated, which is important in order to achieve what we want to see in the Caribbean.\\nJC: What we also want to do is create more transparency around the processes that produce our cities and environments and challenge ideas about who has a voice in how our cities form. One thing we really emphasize is tapping into lived and learned experience and creating connections across class and professional barriers. Tapping into the people who are experiencing the environment is as important as the people who are studying it from a high level.\\n\\nHow did your experiences in New York lead you to create Island City Lab?\\nDD: We moved to New York in 2018 and very early on became embedded in these multidisciplinary networks of people who work on the built environment. Whether it was through our jobs or through professional societies like DivComm, we got very used to the idea of working with a broad slew of professions across the sector. Tackling urban challenges\\xa0 necessitated a broad, silo-breaking approach. Seeing that work in New York got us into thinking what that approach would look like for the Caribbean.JC: New York has really strong civil society groups which expanded our ideas about our role as urbanists. During the Forefront Fellowship, we got to interact with a lot of these groups for our projects. Groups like Blackspace, for example, really fostered us as urban professionals. Blackspace’s manifesto is really foundational to how we think about Island City Lab.\\n\\nDorraine Duncan with members of her 2019 Forefront cohort at “Invisible Networks: Everyday and In Times of Crisis“\\nYou were both Forefront Fellows–Jhordan in 2020 and Dorraine in 2019. Was that experience helpful in informing your approach?\\nDD: Forefront was a very unique and transformative experience for us. The power of convening people is underestimated. The simple benefit of saying, ‘alright, I’m creating a space for you guys to come here together and learn and explore,’ is a big deal. So many people are excited to explore urban issues; different, or broader than the issues they focus on for their jobs and unfortunately a space for that type of urban learning doesn’t really exist regionally in the Caribbean. The other benefit of creating this type of space is that you realize the limitations of your own skills and profession and become a bit humbled.\\xa0\\nJC: Even as a methodology, this network based approach that we learned in Forefront taught us that you don’t always have to be the expert, but you can talk to the expert. That kind of approach is really inspiring. We can apply it to the Caribbean – there’s a lot of expertise on the ground here. This can create real transformation in the governance of our urban environment.\\n\\nHow are you hoping to expand interest in this work to the general public?\\nJC: Our vision is to be a resource for good urban governance, specific to our context, and really bridge this gap across the Caribbean. Each person living in a city is an urbanist and they should have a say on how their environments are produced. We really want to think about the Caribbean regionally and foster this network for people engaged in urban life. To build a base of urban research that acts as a repository of assets that people can tap into that is digestible and understandable by the public as well as specific audiences.\\xa0DD: Being a Fellow, there is an understanding that there is a strength in this network. The most exciting and inspiring part of UDF is your ability to extend that network in service of your Fellows and their aspirations and pursuits. I really hope that we’re able to do that at Island City Lab as well. I hope we can make those connections across the region because it is a very useful resource and something we are dedicated to growing and developing.\\n\\n“Caribbean Women in Architecture,” a lecture series presented by CASA in association with Island City Lab\\n\\nTell us about the series on Caribbean women in architecture and what you have coming up in the next few months?\\nJC: The Caribbean Women in Architecture series is a collaboration between us and the Caribbean Architecture Students Association (CASA), a student group within the Caribbean School of Architecture. When I was teaching there, there was no real space for us to have professional discourse around the state of practice. With this series, the students want to bridge the gap between academia and professional practice and another gap between the islands on issues affecting the profession of architecture. These are intelligent, visionary students, and we believe leadership comes from diverse places. I really want the Lab to help youth leaders create a platform for themselves.\\xa0\\nDD: The other event series we are planning is “Water is Life: Climate Adapted Cities.” The IPCC reports say that water security is going to be the defining issue for small islands. With this series, we’re trying to bring in different professionals to discuss solutions to island level water security. We want to explore how updated building codes, zoning, density laws, and green infrastructure can help protect, preserve and recharge our water resources. Solutions to these challenges already exist already in the Caribbean. For example, Bermuda has mandated rainwater catchment in all homes for decades. There are islands out here that have very innovative solutions and indigenous approaches and designs. We’re excited because we’re looking across the Caribbean for innovation and expertise and discussing in what context these solutions may be feasible for other islands.\\n\\n\\n\"As urbanists, we talk a lot about climate migration, and it can seem very abstract and long-term. However, it is a reality now in the Caribbean.\"\\n\\n\\nWhat lessons do you think that practitioners here in New York could probably learn from island cities?\\nJC: One is that New York is a major financial center, so it can produce a lot of funding and innovation hubs for technology and large infrastructure projects that are advertised as the solution to urban ills. However, we’re finding in our conversations on the Caribbean that the key is really about good governance of our urban environment and the institutions that manage it. With limited resources, the first reaction here is usually not to spend money, but to think about how to strengthen the institutions that manage and steward the urban environment. New York could really learn from the Caribbean in this sense.\\xa0\\nI also think New York is going to learn that if the island situation isn’t sorted, immigration from our islands into US cities is going to be major. Investing in research around loss and damage in the Caribbean is extremely important.\\xa0\\nDD: As urbanists, we talk a lot about climate migration, and it can seem very abstract and long-term. However, it is a reality now in the Caribbean. It’s a very dangerous confluence of climate-based migration followed by disaster capitalism. Barbuda, an island in the Eastern Caribbean where the majority of the population has been displaced because of Hurricane Irma now has to fight off billionaire real-estate investors who are snatching their land to set up luxury hotels. You can almost imagine hearing a story like this in NYC too, where displacement of the marginalized is worsened by extreme vulnerabilities to weather combined with extreme unfettered wealth. New York may not be a [Caribbean] island, and is definitely not as vulnerable as we are – but the same climatic and economic forces that affect us will definitely also impact you all.\\xa0\\n\\nWhat are the personal habits and activities that help inspire and motivate you on a day to day basis?\\nDD: We’ve moved to a bit of a more suburban lifestyle in Jamaica that is very different from our Flatbush apartment. We have a lot of yard space and we were like, ‘what are we going to do?’ So, we took up gardening, and it’s been the most therapeutic and meditative act. As someone who is trying to start an organization, patience is something that I’m not very good at…!JC: Gardening really taught me to foster and anticipate things. I feel like our successes in gardening filters into other successes and teaches you how to deal with failure. It’s an amazing metaphor.\\n\\nJhordan Channer prepping soil to plant a tamarind tree in their yard in Jamaica\\nAnything you’d like to share with the UDF network?\\nDD: Both Jhordan and I were on student visas for the entire time we were in the US. We applied for work visas and both of us were unsuccessful. In New York, there are so many immigrants doing really exciting things, but their immigration status is so fickle. It’s based on policies, but also luck of the draw. Being unsuccessful and having to leave the country was a shock to our system. Jhordan and I were starting to make so many plans for our future in NYC and then all of that was suddenly taken away from us. It was sad, but that’s a common story for lots of immigrants across the US. That kind of heartbreak led us to this moment. I feel like it’s valuable to know that after that sadness there are opportunities to find your footing back home.\\nJC: Also getting reacquainted with your city–the city that you were born in–is an incredible process. Understanding the city again, loving it for taking care of you before you went away, and ultimately wanting the best for it… in a way, that inspired us to start Island City Lab. Immigration is part of the Caribbean experience–if you’re privileged enough to do so–and now we want to foster what we have here. I want that for all Caribbean people.\\n\\n\\nDorraine Duncan is a city planner and policy analyst that explores issues at the intersection of environmental sustainability and equitable economic growth. Her research and analytical skills have been applied to renewable energy, climate resiliency, food security, open space development, and conservation in the United States, Mexico, Singapore, and Jamaica.\\nJhordan Channer is an urban designer who borrows a set of tools from planners, policy analysts, and activists to engage with urban issues. He has applied this toolkit in the design and research of public space, public infrastructure, and architectural projects in Kingston, New York City, and Atlanta.To learn more about Island City Lab, and sign up for their upcoming events, check out their social media, and sign up for their newsletter here.\\xa0\\nThis conversation is the first of our Reconnect Conversations focused on building community at the Forum through conversations, events, and gatherings for our Fellows. This interview has been edited and condensed for clarification purposes.',\n",
       " '']"
      ]
     },
     "execution_count": 47,
     "metadata": {},
     "output_type": "execute_result"
    }
   ],
   "source": [
    "text"
   ]
  },
  {
   "cell_type": "code",
   "execution_count": 49,
   "id": "3dfacca6",
   "metadata": {},
   "outputs": [
    {
     "data": {
      "application/vnd.jupyter.widget-view+json": {
       "model_id": "147b05b81ee940febcf152b7344b42f3",
       "version_major": 2,
       "version_minor": 0
      },
      "text/plain": [
       "  0%|          | 0/81 [00:00<?, ?it/s]"
      ]
     },
     "metadata": {},
     "output_type": "display_data"
    }
   ],
   "source": [
    "for i, link in tqdm(corpus.iterrows(), total=len(links)):\n",
    "    try:\n",
    "        url = link.url\n",
    "        title = link.title\n",
    "        r = requests.get(url)\n",
    "        soup = BeautifulSoup(r.text, 'html.parser')\n",
    "        article = text = ' '.join([p.text.strip() for p in soup.select('div.entry-content.mb-5')])\n",
    "        text = re.sub(r'[\\r\\n\\xa0 ]+', ' ', article).strip()\n",
    "        corpus.loc[i, 'text'] = text\n",
    "    except Exception as e:\n",
    "        corpus.loc[i] = np.nan\n",
    "        print(f'Error at index {i}: {e}')"
   ]
  },
  {
   "cell_type": "code",
   "execution_count": 50,
   "id": "096ed35c",
   "metadata": {},
   "outputs": [
    {
     "data": {
      "text/html": [
       "<div>\n",
       "<style scoped>\n",
       "    .dataframe tbody tr th:only-of-type {\n",
       "        vertical-align: middle;\n",
       "    }\n",
       "\n",
       "    .dataframe tbody tr th {\n",
       "        vertical-align: top;\n",
       "    }\n",
       "\n",
       "    .dataframe thead th {\n",
       "        text-align: right;\n",
       "    }\n",
       "</style>\n",
       "<table border=\"1\" class=\"dataframe\">\n",
       "  <thead>\n",
       "    <tr style=\"text-align: right;\">\n",
       "      <th></th>\n",
       "      <th>title</th>\n",
       "      <th>url</th>\n",
       "      <th>date</th>\n",
       "      <th>text</th>\n",
       "    </tr>\n",
       "  </thead>\n",
       "  <tbody>\n",
       "    <tr>\n",
       "      <th>0</th>\n",
       "      <td>Fellows Spotlight: Dorraine Duncan and Jhordan...</td>\n",
       "      <td>https://urbandesignforum.org/fellow-spotlight-...</td>\n",
       "      <td>March 25, 2022</td>\n",
       "      <td>For this month’s Fellow Spotlight, we spoke wi...</td>\n",
       "    </tr>\n",
       "    <tr>\n",
       "      <th>1</th>\n",
       "      <td>Neighborhoods Now: In Conversation with Ryan G...</td>\n",
       "      <td>https://urbandesignforum.org/neighborhoods-now...</td>\n",
       "      <td>April 30, 2021</td>\n",
       "      <td>We are excited to continue our Neighborhoods N...</td>\n",
       "    </tr>\n",
       "    <tr>\n",
       "      <th>2</th>\n",
       "      <td>Neighborhoods Now: In Conversation with Ian Gr...</td>\n",
       "      <td>https://urbandesignforum.org/neighborhoods-now...</td>\n",
       "      <td>April 1, 2021</td>\n",
       "      <td>We are excited to continue our Neighborhoods N...</td>\n",
       "    </tr>\n",
       "    <tr>\n",
       "      <th>3</th>\n",
       "      <td>Neighborhoods Now: In Conversation with Yin Ko...</td>\n",
       "      <td>https://urbandesignforum.org/neighborhoods-now...</td>\n",
       "      <td>March 24, 2021</td>\n",
       "      <td>We are excited to continue our Neighborhoods N...</td>\n",
       "    </tr>\n",
       "    <tr>\n",
       "      <th>4</th>\n",
       "      <td>Turning the Heat Collection of Proposals: Intr...</td>\n",
       "      <td>https://urbandesignforum.org/turning-the-heat-...</td>\n",
       "      <td>December 15, 2020</td>\n",
       "      <td>The Urban Design Forum’s 2019 Forefront Fellow...</td>\n",
       "    </tr>\n",
       "    <tr>\n",
       "      <th>...</th>\n",
       "      <td>...</td>\n",
       "      <td>...</td>\n",
       "      <td>...</td>\n",
       "      <td>...</td>\n",
       "    </tr>\n",
       "    <tr>\n",
       "      <th>76</th>\n",
       "      <td>Grid, Interrupted</td>\n",
       "      <td>https://urbandesignforum.org/grid-interrupted/</td>\n",
       "      <td>June 14, 2012</td>\n",
       "      <td>Editors Note: As the Museum of the City of New...</td>\n",
       "    </tr>\n",
       "    <tr>\n",
       "      <th>77</th>\n",
       "      <td>Rewriting a City in Nature</td>\n",
       "      <td>https://urbandesignforum.org/rewriting-a-city-...</td>\n",
       "      <td>February 15, 2012</td>\n",
       "      <td>Editor’s Note: Check out our review of Diana B...</td>\n",
       "    </tr>\n",
       "    <tr>\n",
       "      <th>78</th>\n",
       "      <td>No School is an Island</td>\n",
       "      <td>https://urbandesignforum.org/no-school-is-an-i...</td>\n",
       "      <td>February 9, 2012</td>\n",
       "      <td>Edtior’s Note: The vision of the triumphant Co...</td>\n",
       "    </tr>\n",
       "    <tr>\n",
       "      <th>79</th>\n",
       "      <td>Rurbanism: A New Model for African Development</td>\n",
       "      <td>https://urbandesignforum.org/7521-2/</td>\n",
       "      <td>December 19, 2011</td>\n",
       "      <td>It is projected that by 2025, 200 million Afri...</td>\n",
       "    </tr>\n",
       "    <tr>\n",
       "      <th>80</th>\n",
       "      <td>Lower Manhattan Reconsidered</td>\n",
       "      <td>https://urbandesignforum.org/lower-manhattan-r...</td>\n",
       "      <td>December 5, 2011</td>\n",
       "      <td>Photos courtesy of Peter Walker Partners Lands...</td>\n",
       "    </tr>\n",
       "  </tbody>\n",
       "</table>\n",
       "<p>81 rows × 4 columns</p>\n",
       "</div>"
      ],
      "text/plain": [
       "                                                title  \\\n",
       "0   Fellows Spotlight: Dorraine Duncan and Jhordan...   \n",
       "1   Neighborhoods Now: In Conversation with Ryan G...   \n",
       "2   Neighborhoods Now: In Conversation with Ian Gr...   \n",
       "3   Neighborhoods Now: In Conversation with Yin Ko...   \n",
       "4   Turning the Heat Collection of Proposals: Intr...   \n",
       "..                                                ...   \n",
       "76                                  Grid, Interrupted   \n",
       "77                         Rewriting a City in Nature   \n",
       "78                             No School is an Island   \n",
       "79     Rurbanism: A New Model for African Development   \n",
       "80                       Lower Manhattan Reconsidered   \n",
       "\n",
       "                                                  url               date  \\\n",
       "0   https://urbandesignforum.org/fellow-spotlight-...     March 25, 2022   \n",
       "1   https://urbandesignforum.org/neighborhoods-now...     April 30, 2021   \n",
       "2   https://urbandesignforum.org/neighborhoods-now...      April 1, 2021   \n",
       "3   https://urbandesignforum.org/neighborhoods-now...     March 24, 2021   \n",
       "4   https://urbandesignforum.org/turning-the-heat-...  December 15, 2020   \n",
       "..                                                ...                ...   \n",
       "76     https://urbandesignforum.org/grid-interrupted/      June 14, 2012   \n",
       "77  https://urbandesignforum.org/rewriting-a-city-...  February 15, 2012   \n",
       "78  https://urbandesignforum.org/no-school-is-an-i...   February 9, 2012   \n",
       "79               https://urbandesignforum.org/7521-2/  December 19, 2011   \n",
       "80  https://urbandesignforum.org/lower-manhattan-r...   December 5, 2011   \n",
       "\n",
       "                                                 text  \n",
       "0   For this month’s Fellow Spotlight, we spoke wi...  \n",
       "1   We are excited to continue our Neighborhoods N...  \n",
       "2   We are excited to continue our Neighborhoods N...  \n",
       "3   We are excited to continue our Neighborhoods N...  \n",
       "4   The Urban Design Forum’s 2019 Forefront Fellow...  \n",
       "..                                                ...  \n",
       "76  Editors Note: As the Museum of the City of New...  \n",
       "77  Editor’s Note: Check out our review of Diana B...  \n",
       "78  Edtior’s Note: The vision of the triumphant Co...  \n",
       "79  It is projected that by 2025, 200 million Afri...  \n",
       "80  Photos courtesy of Peter Walker Partners Lands...  \n",
       "\n",
       "[81 rows x 4 columns]"
      ]
     },
     "execution_count": 50,
     "metadata": {},
     "output_type": "execute_result"
    }
   ],
   "source": [
    "corpus"
   ]
  },
  {
   "cell_type": "code",
   "execution_count": 51,
   "id": "e1cb0a27",
   "metadata": {},
   "outputs": [],
   "source": [
    "corpus.to_csv('./urbandesignforum_review_our-stories_corpus.csv')"
   ]
  },
  {
   "cell_type": "code",
   "execution_count": 54,
   "id": "61151864",
   "metadata": {},
   "outputs": [
    {
     "data": {
      "text/plain": [
       "'We are excited to continue our Neighborhoods Now initiative with Asian Americans for Equality (AAFE) and Think!Chinatown in Chinatown and Banana Kelly in the South Bronx. Additionally, we expanded our partnership with Fourth Arts Block in the Lower East Side. These working groups will reenergize outdoor spaces to support community programming and cultural revitalization. These next few weeks, we will be rolling out interviews with the representatives of each organization to learn more about their history, some neighborhood insights, and what they hope to achieve through Neighborhoods Now. Read an interview with Ian Gray-Stack, Director of Community Organizing at Banana Kelly. The South Bronx working group will reactivate community gardens in Longwood, Hunts Point, Morrisania, and Mott Haven, allowing for safe outdoor activities and services that address neighborhood needs. Tell us a little bit about your organization. Ian Gray-Stack: Battling city intentions to demolish every building that was not slated for renovation through a federal program, the residents on that section of Kelly Street known as “Banana Kelly” took matters into their own hands and, in 1978, “liberated” three buildings to begin the long process of rehabilitation through “sweat equity.” Over 40 years later, Banana Kelly has expanded its portfolio to around 65 affordable housing buildings across the Hunts Point and Longwood neighborhoods and continues to fight for high-quality affordable housing by organizing residents and other community members and providing the direct services and resources necessary for residents to come together and take action. What types of work has your organization been involved in and what are some issues that this community still faces? IG: We have three main departments: property management, direct services, and community organizing. We provide tenants with wrap around services like eviction protection and rental assistance, while also organizing them into tenant associations and block associations so that they can deepen relationships with their neighbors, identify common issues, and begin to strategize possible actions that will lead to concrete changes. Several of our buildings are also connected to community gardens which serve as hubs in those areas for the work that residents are steering. Most recently, our work has focused on providing families with direct COVID-19 relief such as emergency food deliveries, PPE supplies, and virtual workshops focusing on various aspects of the current pandemic. What makes this neighborhood special? IG: There is a lot that makes our neighborhood special, but in my personal opinion I think it’s the diverse mixture of people that has always made it such a unique place. So many different people from across the country and the globe living side by side has led to amazing new artistic and culinary creations that have gone on to become globally sensationalized: hip hop, graffiti, breakdancing, and salsa to name a few. What are some neighborhood spots that are most important to people in this community? IG: This is a difficult one for me to answer because I’ve been working in these two particular neighborhoods for only a year and all during a pandemic, but one that jumps to mind is Concrete Plant Park, a recently redesigned stretch along the Bronx River with seating areas, a bike pathway, and diverse grasslands plants. Another important neighborhood spot is Casita Maria, which provides a wide range of youth and arts programming. What are you hoping to achieve through this partnership? IG: With this partnership, I hope to work with residents to design short, medium, and long-term visions for each of our 5 community gardens, as well as a plan for implementation. I’d like to use the design process to facilitate the development of garden committees and tenant associations that can help design the vision for their garden and then facilitate the implementation of this vision going forward. Right now, we have conducted site visits and have begun to formulate these visions for all of our gardens and in doing so have re-engaged some of our long-standing garden leaders. Some of the pieces of these visions will be implemented before the end of the Neighborhoods Now partnership and some pieces will be ongoing organizing projects taking us at least to the end of this year. Photos: Ian Gray-Stack and Alisha Kim Levin'"
      ]
     },
     "execution_count": 54,
     "metadata": {},
     "output_type": "execute_result"
    }
   ],
   "source": [
    "corpus.loc[2, 'text']"
   ]
  },
  {
   "cell_type": "code",
   "execution_count": null,
   "id": "b603aff1",
   "metadata": {},
   "outputs": [],
   "source": []
  }
 ],
 "metadata": {
  "kernelspec": {
   "display_name": "Python 3 (ipykernel)",
   "language": "python",
   "name": "python3"
  },
  "language_info": {
   "codemirror_mode": {
    "name": "ipython",
    "version": 3
   },
   "file_extension": ".py",
   "mimetype": "text/x-python",
   "name": "python",
   "nbconvert_exporter": "python",
   "pygments_lexer": "ipython3",
   "version": "3.9.7"
  },
  "toc": {
   "base_numbering": 1,
   "nav_menu": {},
   "number_sections": true,
   "sideBar": true,
   "skip_h1_title": false,
   "title_cell": "Table of Contents",
   "title_sidebar": "Contents",
   "toc_cell": false,
   "toc_position": {},
   "toc_section_display": true,
   "toc_window_display": false
  }
 },
 "nbformat": 4,
 "nbformat_minor": 5
}
