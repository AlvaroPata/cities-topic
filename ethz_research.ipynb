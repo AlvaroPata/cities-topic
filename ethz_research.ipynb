{
 "cells": [
  {
   "cell_type": "code",
   "execution_count": 8,
   "id": "7250b89b",
   "metadata": {},
   "outputs": [],
   "source": [
    "import pandas as pd\n",
    "import numpy as np\n",
    "import requests\n",
    "from bs4 import BeautifulSoup\n",
    "from tqdm import tqdm_notebook\n",
    "from selenium import webdriver\n",
    "import time"
   ]
  },
  {
   "cell_type": "code",
   "execution_count": 10,
   "id": "8c435426",
   "metadata": {},
   "outputs": [],
   "source": [
    "link = \"https://fcl.ethz.ch/research.html\"\n",
    "driver = webdriver.Firefox()\n",
    "driver.get(link)\n",
    "time.sleep(5)\n",
    "soup = BeautifulSoup(driver.page_source, \"html.parser\")"
   ]
  },
  {
   "cell_type": "code",
   "execution_count": 36,
   "id": "8f5f7d0b",
   "metadata": {},
   "outputs": [
    {
     "data": {
      "text/html": [
       "<div>\n",
       "<style scoped>\n",
       "    .dataframe tbody tr th:only-of-type {\n",
       "        vertical-align: middle;\n",
       "    }\n",
       "\n",
       "    .dataframe tbody tr th {\n",
       "        vertical-align: top;\n",
       "    }\n",
       "\n",
       "    .dataframe thead th {\n",
       "        text-align: right;\n",
       "    }\n",
       "</style>\n",
       "<table border=\"1\" class=\"dataframe\">\n",
       "  <thead>\n",
       "    <tr style=\"text-align: right;\">\n",
       "      <th></th>\n",
       "      <th>title</th>\n",
       "      <th>url</th>\n",
       "    </tr>\n",
       "  </thead>\n",
       "  <tbody>\n",
       "    <tr>\n",
       "      <th>0</th>\n",
       "      <td>Circular Future Cities</td>\n",
       "      <td>https://fcl.ethz.ch/research/circular-future-c...</td>\n",
       "    </tr>\n",
       "    <tr>\n",
       "      <th>1</th>\n",
       "      <td>Powering the City</td>\n",
       "      <td>https://fcl.ethz.ch/research/powering-the-city...</td>\n",
       "    </tr>\n",
       "    <tr>\n",
       "      <th>2</th>\n",
       "      <td>Dense and Green Cities</td>\n",
       "      <td>https://fcl.ethz.ch/research/dense-and-green-c...</td>\n",
       "    </tr>\n",
       "    <tr>\n",
       "      <th>3</th>\n",
       "      <td>Urban BioCycles Mycelium Digitalisation</td>\n",
       "      <td>https://fcl.ethz.ch/research/urban-biocycles-m...</td>\n",
       "    </tr>\n",
       "    <tr>\n",
       "      <th>4</th>\n",
       "      <td>The Sea-​City Interface</td>\n",
       "      <td>https://fcl.ethz.ch/research/sea-city-interfac...</td>\n",
       "    </tr>\n",
       "  </tbody>\n",
       "</table>\n",
       "</div>"
      ],
      "text/plain": [
       "                                     title  \\\n",
       "0                   Circular Future Cities   \n",
       "1                        Powering the City   \n",
       "2                   Dense and Green Cities   \n",
       "3  Urban BioCycles Mycelium Digitalisation   \n",
       "4                  The Sea-​City Interface   \n",
       "\n",
       "                                                 url  \n",
       "0  https://fcl.ethz.ch/research/circular-future-c...  \n",
       "1  https://fcl.ethz.ch/research/powering-the-city...  \n",
       "2  https://fcl.ethz.ch/research/dense-and-green-c...  \n",
       "3  https://fcl.ethz.ch/research/urban-biocycles-m...  \n",
       "4  https://fcl.ethz.ch/research/sea-city-interfac...  "
      ]
     },
     "execution_count": 36,
     "metadata": {},
     "output_type": "execute_result"
    }
   ],
   "source": [
    "links = pd.DataFrame(columns=['title', 'url'])\n",
    "for i, link in enumerate(soup.select('a.child-nav__link')):\n",
    "    url = 'https://fcl.ethz.ch' + link['href']\n",
    "    links.loc[i, ['title', 'url']] = [link.text, url]\n",
    "links.drop_duplicates(inplace=True)\n",
    "links['title'] = links[\"title\"].apply(lambda x: x.split('\\n')[0].replace('\\xad','').strip())\n",
    "links.head()"
   ]
  },
  {
   "cell_type": "code",
   "execution_count": 47,
   "id": "eaffade7",
   "metadata": {
    "scrolled": false
   },
   "outputs": [],
   "source": [
    "corpus = pd.DataFrame(columns=['title', 'url', 'date', 'text'])\n",
    "driver = webdriver.Firefox()\n",
    "time.sleep(5)\n",
    "for i, link in links.iterrows():\n",
    "    driver.get(link.url)\n",
    "    soup = BeautifulSoup(driver.page_source)\n",
    "    paragraphs = [p.text.strip() for p in soup.select('.textimage')]\n",
    "    text = ' '.join(paragraphs)\n",
    "    corpus.loc[i, ['title', 'url', 'date', 'text']] = [link.title, link.url, np.nan, text]"
   ]
  },
  {
   "cell_type": "code",
   "execution_count": 49,
   "id": "e1cb0a27",
   "metadata": {},
   "outputs": [],
   "source": [
    "corpus.to_csv('./ethz_research.csv')"
   ]
  },
  {
   "cell_type": "code",
   "execution_count": 50,
   "id": "61151864",
   "metadata": {},
   "outputs": [
    {
     "data": {
      "text/html": [
       "<div>\n",
       "<style scoped>\n",
       "    .dataframe tbody tr th:only-of-type {\n",
       "        vertical-align: middle;\n",
       "    }\n",
       "\n",
       "    .dataframe tbody tr th {\n",
       "        vertical-align: top;\n",
       "    }\n",
       "\n",
       "    .dataframe thead th {\n",
       "        text-align: right;\n",
       "    }\n",
       "</style>\n",
       "<table border=\"1\" class=\"dataframe\">\n",
       "  <thead>\n",
       "    <tr style=\"text-align: right;\">\n",
       "      <th></th>\n",
       "      <th>title</th>\n",
       "      <th>url</th>\n",
       "      <th>date</th>\n",
       "      <th>text</th>\n",
       "    </tr>\n",
       "  </thead>\n",
       "  <tbody>\n",
       "    <tr>\n",
       "      <th>0</th>\n",
       "      <td>Circular Future Cities</td>\n",
       "      <td>https://fcl.ethz.ch/research/circular-future-c...</td>\n",
       "      <td>NaN</td>\n",
       "      <td>Global construction material demand has more t...</td>\n",
       "    </tr>\n",
       "    <tr>\n",
       "      <th>1</th>\n",
       "      <td>Powering the City</td>\n",
       "      <td>https://fcl.ethz.ch/research/powering-the-city...</td>\n",
       "      <td>NaN</td>\n",
       "      <td>Globally, 80% of energy is consumed primarily ...</td>\n",
       "    </tr>\n",
       "    <tr>\n",
       "      <th>2</th>\n",
       "      <td>Dense and Green Cities</td>\n",
       "      <td>https://fcl.ethz.ch/research/dense-and-green-c...</td>\n",
       "      <td>NaN</td>\n",
       "      <td>Contemporary urban planning and design practic...</td>\n",
       "    </tr>\n",
       "    <tr>\n",
       "      <th>3</th>\n",
       "      <td>Urban BioCycles Mycelium Digitalisation</td>\n",
       "      <td>https://fcl.ethz.ch/research/urban-biocycles-m...</td>\n",
       "      <td>NaN</td>\n",
       "      <td>The worldwide economic and ecological developm...</td>\n",
       "    </tr>\n",
       "    <tr>\n",
       "      <th>4</th>\n",
       "      <td>The Sea-​City Interface</td>\n",
       "      <td>https://fcl.ethz.ch/research/sea-city-interfac...</td>\n",
       "      <td>NaN</td>\n",
       "      <td>The Sea-City Interface focuses on the sea-city...</td>\n",
       "    </tr>\n",
       "  </tbody>\n",
       "</table>\n",
       "</div>"
      ],
      "text/plain": [
       "                                     title  \\\n",
       "0                   Circular Future Cities   \n",
       "1                        Powering the City   \n",
       "2                   Dense and Green Cities   \n",
       "3  Urban BioCycles Mycelium Digitalisation   \n",
       "4                  The Sea-​City Interface   \n",
       "\n",
       "                                                 url date  \\\n",
       "0  https://fcl.ethz.ch/research/circular-future-c...  NaN   \n",
       "1  https://fcl.ethz.ch/research/powering-the-city...  NaN   \n",
       "2  https://fcl.ethz.ch/research/dense-and-green-c...  NaN   \n",
       "3  https://fcl.ethz.ch/research/urban-biocycles-m...  NaN   \n",
       "4  https://fcl.ethz.ch/research/sea-city-interfac...  NaN   \n",
       "\n",
       "                                                text  \n",
       "0  Global construction material demand has more t...  \n",
       "1  Globally, 80% of energy is consumed primarily ...  \n",
       "2  Contemporary urban planning and design practic...  \n",
       "3  The worldwide economic and ecological developm...  \n",
       "4  The Sea-City Interface focuses on the sea-city...  "
      ]
     },
     "execution_count": 50,
     "metadata": {},
     "output_type": "execute_result"
    }
   ],
   "source": [
    "corpus.head()"
   ]
  },
  {
   "cell_type": "code",
   "execution_count": null,
   "id": "b603aff1",
   "metadata": {},
   "outputs": [],
   "source": []
  }
 ],
 "metadata": {
  "kernelspec": {
   "display_name": "Python 3 (ipykernel)",
   "language": "python",
   "name": "python3"
  },
  "language_info": {
   "codemirror_mode": {
    "name": "ipython",
    "version": 3
   },
   "file_extension": ".py",
   "mimetype": "text/x-python",
   "name": "python",
   "nbconvert_exporter": "python",
   "pygments_lexer": "ipython3",
   "version": "3.9.7"
  },
  "toc": {
   "base_numbering": 1,
   "nav_menu": {},
   "number_sections": true,
   "sideBar": true,
   "skip_h1_title": false,
   "title_cell": "Table of Contents",
   "title_sidebar": "Contents",
   "toc_cell": false,
   "toc_position": {},
   "toc_section_display": true,
   "toc_window_display": false
  }
 },
 "nbformat": 4,
 "nbformat_minor": 5
}
